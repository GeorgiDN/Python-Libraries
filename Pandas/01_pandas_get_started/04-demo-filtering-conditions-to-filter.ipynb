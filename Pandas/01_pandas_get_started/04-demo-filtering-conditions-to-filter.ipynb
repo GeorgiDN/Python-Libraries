{
 "cells": [
  {
   "cell_type": "code",
   "id": "initial_id",
   "metadata": {
    "collapsed": true,
    "ExecuteTime": {
     "end_time": "2024-11-10T08:57:29.180354Z",
     "start_time": "2024-11-10T08:57:29.176626Z"
    }
   },
   "source": [
    "people = {\n",
    "    \"first\": [\"Corey\", 'Jane', 'John'], \n",
    "    \"last\": [\"Schafer\", 'Doe', 'Doe'], \n",
    "    \"email\": [\"CoreyMSchafer@gmail.com\", 'JaneDoe@email.com', 'JohnDoe@email.com']\n",
    "}"
   ],
   "execution_count": 6,
   "outputs": []
  },
  {
   "metadata": {
    "ExecuteTime": {
     "end_time": "2024-11-10T08:57:30.117499Z",
     "start_time": "2024-11-10T08:57:30.113206Z"
    }
   },
   "cell_type": "code",
   "source": "import pandas as pd",
   "id": "efb8ab764079c8d0",
   "execution_count": 7,
   "outputs": []
  },
  {
   "metadata": {
    "ExecuteTime": {
     "end_time": "2024-11-10T08:57:30.710422Z",
     "start_time": "2024-11-10T08:57:30.705365Z"
    }
   },
   "cell_type": "code",
   "source": "df= pd.DataFrame(people)",
   "id": "19dcae999e5b81d7",
   "execution_count": 8,
   "outputs": []
  },
  {
   "metadata": {
    "ExecuteTime": {
     "end_time": "2024-11-10T08:57:33.057439Z",
     "start_time": "2024-11-10T08:57:33.048347Z"
    }
   },
   "cell_type": "code",
   "source": "df",
   "id": "eaf159c1f480d0bb",
   "execution_count": 9,
   "outputs": []
  },
  {
   "metadata": {
    "ExecuteTime": {
     "end_time": "2024-11-10T08:57:37.420814Z",
     "start_time": "2024-11-10T08:57:37.414404Z"
    }
   },
   "cell_type": "code",
   "source": "df[\"last\"] == \"Doe\"",
   "id": "f17b153d5adfbd16",
   "execution_count": 10,
   "outputs": []
  },
  {
   "metadata": {
    "ExecuteTime": {
     "end_time": "2024-11-10T09:00:56.583052Z",
     "start_time": "2024-11-10T09:00:56.578998Z"
    }
   },
   "cell_type": "code",
   "source": "filt = (df[\"last\"] == \"Doe\") # filter ",
   "id": "53bfe1bde3b74846",
   "execution_count": 11,
   "outputs": []
  },
  {
   "metadata": {
    "ExecuteTime": {
     "end_time": "2024-11-10T09:01:09.587370Z",
     "start_time": "2024-11-10T09:01:09.578438Z"
    }
   },
   "cell_type": "code",
   "source": "df[filt]",
   "id": "73c2c3e04fdcaffd",
   "execution_count": 12,
   "outputs": []
  },
  {
   "metadata": {},
   "cell_type": "code",
   "execution_count": null,
   "source": "#loc - label-based indexing to access rows and columns in a DataFrame based on their labels (names) rather than integer positions.",
   "id": "342117eeefd54602",
   "outputs": []
  },
  {
   "metadata": {
    "ExecuteTime": {
     "end_time": "2024-11-10T09:02:45.063370Z",
     "start_time": "2024-11-10T09:02:45.053846Z"
    }
   },
   "cell_type": "code",
   "source": "df.loc[filt]",
   "id": "84fe1ab703a18916",
   "execution_count": 13,
   "outputs": []
  },
  {
   "metadata": {
    "ExecuteTime": {
     "end_time": "2024-11-10T09:03:44.799947Z",
     "start_time": "2024-11-10T09:03:44.793869Z"
    }
   },
   "cell_type": "code",
   "source": "df.loc[filt, \"email\"] # series of email columns",
   "id": "2648529aaac6bb8a",
   "execution_count": 14,
   "outputs": []
  },
  {
   "metadata": {
    "ExecuteTime": {
     "end_time": "2024-11-10T09:12:55.933659Z",
     "start_time": "2024-11-10T09:12:55.929498Z"
    }
   },
   "cell_type": "code",
   "source": "filt = (df[\"last\"] == \"Doe\") & (df[\"first\"] == \"John\") # AND",
   "id": "81e5e6f9f55ba939",
   "execution_count": 16,
   "outputs": []
  },
  {
   "metadata": {
    "ExecuteTime": {
     "end_time": "2024-11-10T09:13:09.552689Z",
     "start_time": "2024-11-10T09:13:09.545763Z"
    }
   },
   "cell_type": "code",
   "source": "df.loc[filt, \"email\"]",
   "id": "fdc285f478adfb0e",
   "execution_count": 17,
   "outputs": []
  },
  {
   "metadata": {
    "ExecuteTime": {
     "end_time": "2024-11-10T09:19:33.492988Z",
     "start_time": "2024-11-10T09:19:33.487981Z"
    }
   },
   "cell_type": "code",
   "source": "filt = (df[\"last\"] == \"Schafer\") | (df[\"first\"] == \"John\") # OR",
   "id": "dccb401eafb28711",
   "execution_count": 19,
   "outputs": []
  },
  {
   "metadata": {
    "ExecuteTime": {
     "end_time": "2024-11-10T09:19:51.081316Z",
     "start_time": "2024-11-10T09:19:51.074911Z"
    }
   },
   "cell_type": "code",
   "source": "df.loc[filt, \"email\"]",
   "id": "2a2e6ab330f7aad4",
   "execution_count": 20,
   "outputs": []
  },
  {
   "metadata": {
    "ExecuteTime": {
     "end_time": "2024-11-10T09:21:11.561765Z",
     "start_time": "2024-11-10T09:21:11.554474Z"
    }
   },
   "cell_type": "code",
   "source": "df.loc[~filt, \"email\"] # NOT Operator",
   "id": "5d200986bec26e40",
   "execution_count": 21,
   "outputs": []
  },
  {
   "metadata": {},
   "cell_type": "code",
   "execution_count": null,
   "source": "",
   "id": "bba47e8c3ab24d3",
   "outputs": []
  }
 ],
 "metadata": {
  "kernelspec": {
   "display_name": "Python 3",
   "language": "python",
   "name": "python3"
  },
  "language_info": {
   "codemirror_mode": {
    "name": "ipython",
    "version": 2
   },
   "file_extension": ".py",
   "mimetype": "text/x-python",
   "name": "python",
   "nbconvert_exporter": "python",
   "pygments_lexer": "ipython2",
   "version": "2.7.6"
  }
 },
 "nbformat": 4,
 "nbformat_minor": 5
}
