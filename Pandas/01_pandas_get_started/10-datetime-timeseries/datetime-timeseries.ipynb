{
 "cells": [
  {
   "cell_type": "code",
   "id": "initial_id",
   "metadata": {
    "collapsed": true,
    "ExecuteTime": {
     "end_time": "2024-11-10T18:35:27.977089Z",
     "start_time": "2024-11-10T18:35:27.973177Z"
    }
   },
   "source": "import pandas as pd",
   "execution_count": 14,
   "outputs": []
  },
  {
   "metadata": {
    "ExecuteTime": {
     "end_time": "2024-11-10T18:35:28.008996Z",
     "start_time": "2024-11-10T18:35:27.979099Z"
    }
   },
   "cell_type": "code",
   "source": [
    "d_parser = lambda x: pd.datetime.strptime(x, \"%Y-%m-%d %I-%p\")\n",
    "df = pd.read_csv(\"ETH_1h.csv\", parse_dates=[\"Date\"], date_format=d_parser)"
   ],
   "id": "9d27b2878b111d2a",
   "execution_count": 15,
   "outputs": []
  },
  {
   "metadata": {
    "ExecuteTime": {
     "end_time": "2024-11-10T18:35:28.021062Z",
     "start_time": "2024-11-10T18:35:28.010004Z"
    }
   },
   "cell_type": "code",
   "source": "df.head()",
   "id": "8847a366ed878192",
   "execution_count": 16,
   "outputs": []
  },
  {
   "metadata": {
    "ExecuteTime": {
     "end_time": "2024-11-10T18:35:28.029467Z",
     "start_time": "2024-11-10T18:35:28.023070Z"
    }
   },
   "cell_type": "code",
   "source": "df.shape",
   "id": "6a04234aefecf426",
   "execution_count": 17,
   "outputs": []
  },
  {
   "metadata": {
    "ExecuteTime": {
     "end_time": "2024-11-10T18:35:28.037627Z",
     "start_time": "2024-11-10T18:35:28.031477Z"
    }
   },
   "cell_type": "code",
   "source": "df.loc[0, \"Date\"]",
   "id": "1c32302468ed36bd",
   "execution_count": 18,
   "outputs": []
  },
  {
   "metadata": {
    "ExecuteTime": {
     "end_time": "2024-11-10T18:35:28.116596Z",
     "start_time": "2024-11-10T18:35:28.038647Z"
    }
   },
   "cell_type": "code",
   "source": "df[\"Date\"] = pd.to_datetime(df[\"Date\"], format=\"%Y-%m-%d %I-%p\")",
   "id": "6bc7d096d3ee919b",
   "execution_count": 19,
   "outputs": []
  },
  {
   "metadata": {
    "ExecuteTime": {
     "end_time": "2024-11-10T18:35:28.126071Z",
     "start_time": "2024-11-10T18:35:28.118605Z"
    }
   },
   "cell_type": "code",
   "source": "df[\"Date\"]",
   "id": "58f811e655d073c7",
   "execution_count": 20,
   "outputs": []
  },
  {
   "metadata": {
    "ExecuteTime": {
     "end_time": "2024-11-10T18:35:28.134158Z",
     "start_time": "2024-11-10T18:35:28.127082Z"
    }
   },
   "cell_type": "code",
   "source": "df.loc[0, \"Date\"].day_name()",
   "id": "e16f45e89c1870c3",
   "execution_count": 21,
   "outputs": []
  },
  {
   "metadata": {
    "ExecuteTime": {
     "end_time": "2024-11-10T18:36:22.720515Z",
     "start_time": "2024-11-10T18:36:22.703978Z"
    }
   },
   "cell_type": "code",
   "source": "df[\"Date\"].dt.day_name()",
   "id": "31d9e44bcdb19a9b",
   "execution_count": 22,
   "outputs": []
  },
  {
   "metadata": {
    "ExecuteTime": {
     "end_time": "2024-11-10T18:37:03.846645Z",
     "start_time": "2024-11-10T18:37:03.832722Z"
    }
   },
   "cell_type": "code",
   "source": "df[\"DayOfWeek\"] = df[\"Date\"].dt.day_name()",
   "id": "dc2fc373d59efc70",
   "execution_count": 23,
   "outputs": []
  },
  {
   "metadata": {
    "ExecuteTime": {
     "end_time": "2024-11-10T18:37:12.842108Z",
     "start_time": "2024-11-10T18:37:12.774108Z"
    }
   },
   "cell_type": "code",
   "source": "df",
   "id": "7499dbd645db9c21",
   "execution_count": 24,
   "outputs": []
  },
  {
   "metadata": {
    "ExecuteTime": {
     "end_time": "2024-11-10T18:38:05.842646Z",
     "start_time": "2024-11-10T18:38:05.836961Z"
    }
   },
   "cell_type": "code",
   "source": "df[\"Date\"].min()",
   "id": "ac5618e08016198",
   "execution_count": 25,
   "outputs": []
  },
  {
   "metadata": {
    "ExecuteTime": {
     "end_time": "2024-11-10T18:38:15.957815Z",
     "start_time": "2024-11-10T18:38:15.952312Z"
    }
   },
   "cell_type": "code",
   "source": "df[\"Date\"].max()",
   "id": "1fcdb5154907ce5b",
   "execution_count": 26,
   "outputs": []
  },
  {
   "metadata": {
    "ExecuteTime": {
     "end_time": "2024-11-10T18:38:58.511955Z",
     "start_time": "2024-11-10T18:38:58.504827Z"
    }
   },
   "cell_type": "code",
   "source": "df[\"Date\"].max() - df[\"Date\"].min()",
   "id": "7549c3a2987ef8fd",
   "execution_count": 27,
   "outputs": []
  },
  {
   "metadata": {
    "ExecuteTime": {
     "end_time": "2024-11-10T18:43:00.528178Z",
     "start_time": "2024-11-10T18:43:00.510599Z"
    }
   },
   "cell_type": "code",
   "source": [
    "filt = (df[\"Date\"] > \"2020\")\n",
    "df.loc[filt]"
   ],
   "id": "337b237e09345148",
   "execution_count": 31,
   "outputs": []
  },
  {
   "metadata": {
    "ExecuteTime": {
     "end_time": "2024-11-10T18:44:48.068098Z",
     "start_time": "2024-11-10T18:44:48.050053Z"
    }
   },
   "cell_type": "code",
   "source": [
    "filt = (df[\"Date\"] > \"2019\") & (df[\"Date\"] < \"2020\")\n",
    "df.loc[filt]"
   ],
   "id": "bad3d2026db52be4",
   "execution_count": 32,
   "outputs": []
  },
  {
   "metadata": {
    "ExecuteTime": {
     "end_time": "2024-11-10T18:47:00.676776Z",
     "start_time": "2024-11-10T18:47:00.654476Z"
    }
   },
   "cell_type": "code",
   "source": [
    "filt = (df[\"Date\"] >= pd.to_datetime( \"2019-01-01\")) & (df[\"Date\"] < pd.to_datetime(\"2020-01-01\"))\n",
    "df.loc[filt]"
   ],
   "id": "e432b85906f3cea0",
   "execution_count": 33,
   "outputs": []
  },
  {
   "metadata": {
    "ExecuteTime": {
     "end_time": "2024-11-10T18:48:14.389921Z",
     "start_time": "2024-11-10T18:48:14.384970Z"
    }
   },
   "cell_type": "code",
   "source": "df.set_index(\"Date\", inplace=True)",
   "id": "1abd01556c49a947",
   "execution_count": 35,
   "outputs": []
  },
  {
   "metadata": {
    "ExecuteTime": {
     "end_time": "2024-11-10T18:48:27.097210Z",
     "start_time": "2024-11-10T18:48:27.082234Z"
    }
   },
   "cell_type": "code",
   "source": "df",
   "id": "8bf43becbf31a02",
   "execution_count": 36,
   "outputs": []
  },
  {
   "metadata": {
    "ExecuteTime": {
     "end_time": "2024-11-10T18:54:42.398605Z",
     "start_time": "2024-11-10T18:54:42.382818Z"
    }
   },
   "cell_type": "code",
   "source": "df.loc[\"2019\"]",
   "id": "607dfe63a84dc387",
   "execution_count": 40,
   "outputs": []
  },
  {
   "metadata": {
    "ExecuteTime": {
     "end_time": "2024-11-10T19:03:50.870767Z",
     "start_time": "2024-11-10T19:03:50.859651Z"
    }
   },
   "cell_type": "code",
   "source": [
    "df = df.sort_index() # sort to make slicing possible\n",
    "df[\"2020-01\" : \"2020-02\"]"
   ],
   "id": "2bd1b7251ffc6fb5",
   "execution_count": 50,
   "outputs": []
  },
  {
   "metadata": {
    "ExecuteTime": {
     "end_time": "2024-11-10T19:04:21.363427Z",
     "start_time": "2024-11-10T19:04:21.356080Z"
    }
   },
   "cell_type": "code",
   "source": "df[\"2020-01\" : \"2020-02\"][\"Close\"]",
   "id": "31dcaf843c3cf500",
   "execution_count": 52,
   "outputs": []
  },
  {
   "metadata": {
    "ExecuteTime": {
     "end_time": "2024-11-10T18:58:58.507899Z",
     "start_time": "2024-11-10T18:58:58.500238Z"
    }
   },
   "cell_type": "code",
   "source": "df[\"2020-01\" : \"2020-02\"][\"Close\"].mean()",
   "id": "95d3082813b23e3d",
   "execution_count": 46,
   "outputs": []
  },
  {
   "metadata": {
    "ExecuteTime": {
     "end_time": "2024-11-10T19:04:55.757665Z",
     "start_time": "2024-11-10T19:04:55.738412Z"
    }
   },
   "cell_type": "code",
   "source": "df[\"2020-01\" : \"2020-02\"].head(24)",
   "id": "f39454ffb598fd51",
   "execution_count": 54,
   "outputs": []
  },
  {
   "metadata": {
    "ExecuteTime": {
     "end_time": "2024-11-10T19:05:55.135201Z",
     "start_time": "2024-11-10T19:05:55.122720Z"
    }
   },
   "cell_type": "code",
   "source": "df.loc[\"2020-01-01\"][\"High\"]",
   "id": "3f02311fec08f050",
   "execution_count": 56,
   "outputs": []
  },
  {
   "metadata": {
    "ExecuteTime": {
     "end_time": "2024-11-10T19:06:16.008261Z",
     "start_time": "2024-11-10T19:06:16.001618Z"
    }
   },
   "cell_type": "code",
   "source": "df.loc[\"2020-01-01\"][\"High\"].max()",
   "id": "8886441c6effe5be",
   "execution_count": 57,
   "outputs": []
  },
  {
   "metadata": {
    "ExecuteTime": {
     "end_time": "2024-11-10T19:08:34.092414Z",
     "start_time": "2024-11-10T19:08:34.084495Z"
    }
   },
   "cell_type": "code",
   "source": [
    "highs = df[\"High\"].resample(\"D\").max()\n",
    "highs[\"2020-01-01\"]"
   ],
   "id": "e729149f9317528d",
   "execution_count": 59,
   "outputs": []
  },
  {
   "metadata": {
    "ExecuteTime": {
     "end_time": "2024-11-10T19:11:06.914656Z",
     "start_time": "2024-11-10T19:11:05.467319Z"
    }
   },
   "cell_type": "code",
   "source": "%matplotlib inline",
   "id": "189a69b917ab648a",
   "execution_count": 61,
   "outputs": []
  },
  {
   "metadata": {
    "ExecuteTime": {
     "end_time": "2024-11-10T19:11:10.154273Z",
     "start_time": "2024-11-10T19:11:09.335912Z"
    }
   },
   "cell_type": "code",
   "source": "highs.plot()",
   "id": "6d48ecbdc40ac5e8",
   "execution_count": 62,
   "outputs": []
  },
  {
   "metadata": {
    "ExecuteTime": {
     "end_time": "2024-11-10T19:16:18.885281Z",
     "start_time": "2024-11-10T19:16:18.867816Z"
    }
   },
   "cell_type": "code",
   "source": "df.select_dtypes(include=\"number\").resample(\"W\").mean()",
   "id": "ceaeaa5730a0ec52",
   "execution_count": 65,
   "outputs": []
  },
  {
   "metadata": {
    "ExecuteTime": {
     "end_time": "2024-11-10T19:18:18.695600Z",
     "start_time": "2024-11-10T19:18:18.676073Z"
    }
   },
   "cell_type": "code",
   "source": "df.resample('W').agg({'Close': 'mean', 'High': 'max', 'Low': 'min', 'Volume': 'sum'})",
   "id": "c6cd5eb207bc810f",
   "execution_count": 66,
   "outputs": []
  },
  {
   "metadata": {},
   "cell_type": "code",
   "execution_count": null,
   "source": "",
   "id": "fc2eebe2fe80187a",
   "outputs": []
  }
 ],
 "metadata": {
  "kernelspec": {
   "display_name": "Python 3",
   "language": "python",
   "name": "python3"
  },
  "language_info": {
   "codemirror_mode": {
    "name": "ipython",
    "version": 2
   },
   "file_extension": ".py",
   "mimetype": "text/x-python",
   "name": "python",
   "nbconvert_exporter": "python",
   "pygments_lexer": "ipython2",
   "version": "2.7.6"
  }
 },
 "nbformat": 4,
 "nbformat_minor": 5
}
