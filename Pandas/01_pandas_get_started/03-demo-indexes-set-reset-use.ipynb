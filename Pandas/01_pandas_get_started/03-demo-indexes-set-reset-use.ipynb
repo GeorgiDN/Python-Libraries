{
 "cells": [
  {
   "cell_type": "code",
   "id": "initial_id",
   "metadata": {
    "collapsed": true,
    "ExecuteTime": {
     "end_time": "2024-11-10T08:01:22.754130Z",
     "start_time": "2024-11-10T08:01:22.748790Z"
    }
   },
   "source": [
    "people = {\n",
    "    \"first\": [\"Corey\", 'Jane', 'John'], \n",
    "    \"last\": [\"Schafer\", 'Doe', 'Doe'], \n",
    "    \"email\": [\"CoreyMSchafer@gmail.com\", 'JaneDoe@email.com', 'JohnDoe@email.com']\n",
    "}"
   ],
   "execution_count": 1,
   "outputs": []
  },
  {
   "metadata": {
    "ExecuteTime": {
     "end_time": "2024-11-10T08:01:29.290927Z",
     "start_time": "2024-11-10T08:01:28.733770Z"
    }
   },
   "cell_type": "code",
   "source": "import pandas as pd",
   "id": "ac2d09ef353136e",
   "execution_count": 2,
   "outputs": []
  },
  {
   "metadata": {
    "ExecuteTime": {
     "end_time": "2024-11-10T08:01:50.375556Z",
     "start_time": "2024-11-10T08:01:50.371719Z"
    }
   },
   "cell_type": "code",
   "source": "df = pd.DataFrame(people)",
   "id": "f213fd0aa6a93974",
   "execution_count": 3,
   "outputs": []
  },
  {
   "metadata": {
    "ExecuteTime": {
     "end_time": "2024-11-10T08:01:51.292653Z",
     "start_time": "2024-11-10T08:01:51.278003Z"
    }
   },
   "cell_type": "code",
   "source": "df",
   "id": "b90571311107af95",
   "execution_count": 4,
   "outputs": []
  },
  {
   "metadata": {
    "ExecuteTime": {
     "end_time": "2024-11-10T08:09:16.309897Z",
     "start_time": "2024-11-10T08:09:16.302365Z"
    }
   },
   "cell_type": "code",
   "source": "df[\"email\"]",
   "id": "51c34a0878c28b83",
   "execution_count": 6,
   "outputs": []
  },
  {
   "metadata": {
    "ExecuteTime": {
     "end_time": "2024-11-10T08:09:39.380612Z",
     "start_time": "2024-11-10T08:09:39.371083Z"
    }
   },
   "cell_type": "code",
   "source": "df.set_index(\"email\")",
   "id": "5f720aa58435f91a",
   "execution_count": 7,
   "outputs": []
  },
  {
   "metadata": {
    "ExecuteTime": {
     "end_time": "2024-11-10T08:10:49.246709Z",
     "start_time": "2024-11-10T08:10:49.237956Z"
    }
   },
   "cell_type": "code",
   "source": "df",
   "id": "857aaa39c75071ac",
   "execution_count": 8,
   "outputs": []
  },
  {
   "metadata": {
    "ExecuteTime": {
     "end_time": "2024-11-10T08:11:27.994853Z",
     "start_time": "2024-11-10T08:11:27.990332Z"
    }
   },
   "cell_type": "code",
   "source": [
    "# inplace=True modifies the original DataFrame; otherwise, set_index() returns a modified copy.\n",
    "df.set_index(\"email\", inplace=True) # set index"
   ],
   "id": "a761bde9b8a9787d",
   "execution_count": 9,
   "outputs": []
  },
  {
   "metadata": {
    "ExecuteTime": {
     "end_time": "2024-11-10T08:11:30.920582Z",
     "start_time": "2024-11-10T08:11:30.912582Z"
    }
   },
   "cell_type": "code",
   "source": "df",
   "id": "51643df13a72f36a",
   "execution_count": 10,
   "outputs": []
  },
  {
   "metadata": {
    "ExecuteTime": {
     "end_time": "2024-11-10T08:11:53.805017Z",
     "start_time": "2024-11-10T08:11:53.798905Z"
    }
   },
   "cell_type": "code",
   "source": "df.index",
   "id": "be22141045d6b415",
   "execution_count": 11,
   "outputs": []
  },
  {
   "metadata": {
    "ExecuteTime": {
     "end_time": "2024-11-10T08:14:24.649388Z",
     "start_time": "2024-11-10T08:14:24.643218Z"
    }
   },
   "cell_type": "code",
   "source": "df.loc[\"CoreyMSchafer@gmail.com\"]",
   "id": "7b4ef09e82dd4b25",
   "execution_count": 13,
   "outputs": []
  },
  {
   "metadata": {
    "ExecuteTime": {
     "end_time": "2024-11-10T08:14:39.525324Z",
     "start_time": "2024-11-10T08:14:39.517826Z"
    }
   },
   "cell_type": "code",
   "source": "df.loc[\"CoreyMSchafer@gmail.com\", \"last\"]",
   "id": "a681a94bdd997bd9",
   "execution_count": 14,
   "outputs": []
  },
  {
   "metadata": {
    "ExecuteTime": {
     "end_time": "2024-11-10T08:16:04.617396Z",
     "start_time": "2024-11-10T08:16:04.607163Z"
    }
   },
   "cell_type": "code",
   "source": [
    "df.reset_index(inplace=True) # resets the index of the DataFrame back to the default integer index\n",
    "df"
   ],
   "id": "3abdbe67f115fd34",
   "execution_count": 15,
   "outputs": []
  },
  {
   "metadata": {},
   "cell_type": "code",
   "execution_count": null,
   "source": "",
   "id": "52a085877269f24c",
   "outputs": []
  }
 ],
 "metadata": {
  "kernelspec": {
   "display_name": "Python 3",
   "language": "python",
   "name": "python3"
  },
  "language_info": {
   "codemirror_mode": {
    "name": "ipython",
    "version": 2
   },
   "file_extension": ".py",
   "mimetype": "text/x-python",
   "name": "python",
   "nbconvert_exporter": "python",
   "pygments_lexer": "ipython2",
   "version": "2.7.6"
  }
 },
 "nbformat": 4,
 "nbformat_minor": 5
}
