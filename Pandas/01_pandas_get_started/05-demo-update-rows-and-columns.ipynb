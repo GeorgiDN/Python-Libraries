{
 "cells": [
  {
   "cell_type": "code",
   "id": "initial_id",
   "metadata": {
    "collapsed": true,
    "ExecuteTime": {
     "end_time": "2024-11-10T11:00:15.873098Z",
     "start_time": "2024-11-10T11:00:15.868388Z"
    }
   },
   "source": [
    "people = {\n",
    "    \"first\": [\"Corey\", 'Jane', 'John'], \n",
    "    \"last\": [\"Schafer\", 'Doe', 'Doe'], \n",
    "    \"email\": [\"CoreyMSchafer@gmail.com\", 'JaneDoe@email.com', 'JohnDoe@email.com']\n",
    "}"
   ],
   "execution_count": 32,
   "outputs": []
  },
  {
   "metadata": {
    "ExecuteTime": {
     "end_time": "2024-11-10T11:00:15.881206Z",
     "start_time": "2024-11-10T11:00:15.875107Z"
    }
   },
   "cell_type": "code",
   "source": "import pandas as pd",
   "id": "3c2ff6ddf9d8173b",
   "execution_count": 33,
   "outputs": []
  },
  {
   "metadata": {
    "ExecuteTime": {
     "end_time": "2024-11-10T11:00:15.889530Z",
     "start_time": "2024-11-10T11:00:15.883216Z"
    }
   },
   "cell_type": "code",
   "source": "df= pd.DataFrame(people)",
   "id": "a718e065242df125",
   "execution_count": 34,
   "outputs": []
  },
  {
   "metadata": {
    "ExecuteTime": {
     "end_time": "2024-11-10T11:00:15.900846Z",
     "start_time": "2024-11-10T11:00:15.891540Z"
    }
   },
   "cell_type": "code",
   "source": "df",
   "id": "4e20b8bf38fc920d",
   "execution_count": 35,
   "outputs": []
  },
  {
   "metadata": {
    "ExecuteTime": {
     "end_time": "2024-11-10T11:00:15.938401Z",
     "start_time": "2024-11-10T11:00:15.932854Z"
    }
   },
   "cell_type": "code",
   "source": "df.columns",
   "id": "346ef545f3f44dc9",
   "execution_count": 36,
   "outputs": []
  },
  {
   "metadata": {
    "ExecuteTime": {
     "end_time": "2024-11-10T11:01:37.382499Z",
     "start_time": "2024-11-10T11:01:37.377879Z"
    }
   },
   "cell_type": "code",
   "source": "df.columns = ['first name', 'last name', 'email']",
   "id": "e38069a48425ba0f",
   "execution_count": 42,
   "outputs": []
  },
  {
   "metadata": {
    "ExecuteTime": {
     "end_time": "2024-11-10T11:01:38.596410Z",
     "start_time": "2024-11-10T11:01:38.589422Z"
    }
   },
   "cell_type": "code",
   "source": "df",
   "id": "72af5f06830cffb0",
   "execution_count": 43,
   "outputs": []
  },
  {
   "metadata": {
    "ExecuteTime": {
     "end_time": "2024-11-10T11:01:47.501473Z",
     "start_time": "2024-11-10T11:01:47.493356Z"
    }
   },
   "cell_type": "code",
   "source": [
    "df.columns = [x.upper() for x in df.columns]\n",
    "df"
   ],
   "id": "7b4c3421f1584531",
   "execution_count": 44,
   "outputs": []
  },
  {
   "metadata": {
    "ExecuteTime": {
     "end_time": "2024-11-10T11:01:53.412451Z",
     "start_time": "2024-11-10T11:01:53.403637Z"
    }
   },
   "cell_type": "code",
   "source": [
    "df.columns = df.columns.str.replace(' ', '_')\n",
    "df"
   ],
   "id": "a5e58f5909cbc8b5",
   "execution_count": 45,
   "outputs": []
  },
  {
   "metadata": {
    "ExecuteTime": {
     "end_time": "2024-11-10T11:01:55.699947Z",
     "start_time": "2024-11-10T11:01:55.692329Z"
    }
   },
   "cell_type": "code",
   "source": [
    "df.columns = [x.lower() for x in df.columns]\n",
    "df"
   ],
   "id": "9771a2e7aa9d6ae",
   "execution_count": 46,
   "outputs": []
  },
  {
   "metadata": {
    "ExecuteTime": {
     "end_time": "2024-11-10T11:03:58.055369Z",
     "start_time": "2024-11-10T11:03:58.046544Z"
    }
   },
   "cell_type": "code",
   "source": "df.rename(columns={\"first_name\": \"first\", \"last_name\": \"last\"}) ",
   "id": "34adfd4ecdb3b4d4",
   "execution_count": 47,
   "outputs": []
  },
  {
   "metadata": {
    "ExecuteTime": {
     "end_time": "2024-11-10T11:04:05.957540Z",
     "start_time": "2024-11-10T11:04:05.950104Z"
    }
   },
   "cell_type": "code",
   "source": "df",
   "id": "d2ee56622e39fa16",
   "execution_count": 48,
   "outputs": []
  },
  {
   "metadata": {
    "ExecuteTime": {
     "end_time": "2024-11-10T11:04:24.775654Z",
     "start_time": "2024-11-10T11:04:24.770386Z"
    }
   },
   "cell_type": "code",
   "source": "df.rename(columns={\"first_name\": \"first\", \"last_name\": \"last\"}, inplace=True) # permanently change",
   "id": "c1e296b0d0328820",
   "execution_count": 49,
   "outputs": []
  },
  {
   "metadata": {
    "ExecuteTime": {
     "end_time": "2024-11-10T11:04:26.110948Z",
     "start_time": "2024-11-10T11:04:26.103531Z"
    }
   },
   "cell_type": "code",
   "source": "df",
   "id": "6b692bebbbf50341",
   "execution_count": 50,
   "outputs": []
  },
  {
   "metadata": {
    "ExecuteTime": {
     "end_time": "2024-11-10T11:05:59.892772Z",
     "start_time": "2024-11-10T11:05:59.885247Z"
    }
   },
   "cell_type": "code",
   "source": "df.loc[2]",
   "id": "3c20a66b54112c11",
   "execution_count": 51,
   "outputs": []
  },
  {
   "metadata": {
    "ExecuteTime": {
     "end_time": "2024-11-10T11:07:10.949751Z",
     "start_time": "2024-11-10T11:07:10.945145Z"
    }
   },
   "cell_type": "code",
   "source": "df.loc[2] = [\"John\", \"Smith\", \"JohnSmith@email.com\"]",
   "id": "dff0eccaf8fdc233",
   "execution_count": 52,
   "outputs": []
  },
  {
   "metadata": {
    "ExecuteTime": {
     "end_time": "2024-11-10T11:07:12.356659Z",
     "start_time": "2024-11-10T11:07:12.348195Z"
    }
   },
   "cell_type": "code",
   "source": "df",
   "id": "eb3ad560ba2e303",
   "execution_count": 53,
   "outputs": []
  },
  {
   "metadata": {
    "ExecuteTime": {
     "end_time": "2024-11-10T11:08:30.328173Z",
     "start_time": "2024-11-10T11:08:30.321236Z"
    }
   },
   "cell_type": "code",
   "source": "df.loc[2, [\"last\", \"email\"]]",
   "id": "5f41457b3347a145",
   "execution_count": 54,
   "outputs": []
  },
  {
   "metadata": {
    "ExecuteTime": {
     "end_time": "2024-11-10T11:11:23.663499Z",
     "start_time": "2024-11-10T11:11:23.658307Z"
    }
   },
   "cell_type": "code",
   "source": [
    "# Using .loc to Access and Update Multiple Values\n",
    "df.loc[2,  [\"last\", \"email\"]] = [\"Doe\", \"JohnDoe@email.com\"]"
   ],
   "id": "a675837d562f38cc",
   "execution_count": 55,
   "outputs": []
  },
  {
   "metadata": {
    "ExecuteTime": {
     "end_time": "2024-11-10T11:11:25.953108Z",
     "start_time": "2024-11-10T11:11:25.941832Z"
    }
   },
   "cell_type": "code",
   "source": "df",
   "id": "7d505bd361576af8",
   "execution_count": 56,
   "outputs": []
  },
  {
   "metadata": {
    "ExecuteTime": {
     "end_time": "2024-11-10T11:14:11.528900Z",
     "start_time": "2024-11-10T11:14:11.523750Z"
    }
   },
   "cell_type": "code",
   "source": "df.loc[2, \"last\"] = \"Smith\"",
   "id": "534b6a6057ad4e7",
   "execution_count": 57,
   "outputs": []
  },
  {
   "metadata": {},
   "cell_type": "markdown",
   "source": "",
   "id": "7920021f857bfa32"
  },
  {
   "metadata": {
    "ExecuteTime": {
     "end_time": "2024-11-10T11:14:12.546064Z",
     "start_time": "2024-11-10T11:14:12.533771Z"
    }
   },
   "cell_type": "code",
   "source": "df",
   "id": "a90cb8c070bb0d35",
   "execution_count": 58,
   "outputs": []
  },
  {
   "metadata": {
    "ExecuteTime": {
     "end_time": "2024-11-10T11:14:43.470237Z",
     "start_time": "2024-11-10T11:14:43.465234Z"
    }
   },
   "cell_type": "code",
   "source": [
    "# Using .at to Access and Update a Single Value\n",
    "df.at[2, \"last\"] = \"Doe\""
   ],
   "id": "b04900056d7f88f5",
   "execution_count": 59,
   "outputs": []
  },
  {
   "metadata": {
    "ExecuteTime": {
     "end_time": "2024-11-10T11:14:44.626704Z",
     "start_time": "2024-11-10T11:14:44.619278Z"
    }
   },
   "cell_type": "code",
   "source": "df",
   "id": "a77302d075830885",
   "execution_count": 60,
   "outputs": []
  },
  {
   "metadata": {
    "ExecuteTime": {
     "end_time": "2024-11-10T11:20:35.126658Z",
     "start_time": "2024-11-10T11:20:35.120006Z"
    }
   },
   "cell_type": "code",
   "source": [
    "filt = (df[\"email\"] == \"JohnDoe@email.com\")\n",
    "df[filt][\"last\"]"
   ],
   "id": "3b707a4b22ef44ea",
   "execution_count": 64,
   "outputs": []
  },
  {
   "metadata": {
    "ExecuteTime": {
     "end_time": "2024-11-10T11:22:12.113394Z",
     "start_time": "2024-11-10T11:22:12.109189Z"
    }
   },
   "cell_type": "code",
   "source": [
    "filt = (df[\"email\"] == \"JohnDoe@email.com\")\n",
    "df.loc[filt, \"last\"] = \"Smith\""
   ],
   "id": "23dcf549e2401ca8",
   "execution_count": 65,
   "outputs": []
  },
  {
   "metadata": {
    "ExecuteTime": {
     "end_time": "2024-11-10T11:22:27.726289Z",
     "start_time": "2024-11-10T11:22:27.718557Z"
    }
   },
   "cell_type": "code",
   "source": "df",
   "id": "3cdc39c2f3412cd5",
   "execution_count": 66,
   "outputs": []
  },
  {
   "metadata": {
    "ExecuteTime": {
     "end_time": "2024-11-10T12:31:02.758747Z",
     "start_time": "2024-11-10T12:31:02.751129Z"
    }
   },
   "cell_type": "code",
   "source": "df[\"email\"].str.lower()",
   "id": "45eb8f2290a765d2",
   "execution_count": 67,
   "outputs": []
  },
  {
   "metadata": {
    "ExecuteTime": {
     "end_time": "2024-11-10T12:31:48.861506Z",
     "start_time": "2024-11-10T12:31:48.853634Z"
    }
   },
   "cell_type": "code",
   "source": "df",
   "id": "38561ccf931f9da2",
   "execution_count": 68,
   "outputs": []
  },
  {
   "metadata": {
    "ExecuteTime": {
     "end_time": "2024-11-10T12:32:07.736659Z",
     "start_time": "2024-11-10T12:32:07.731942Z"
    }
   },
   "cell_type": "code",
   "source": "df[\"email\"] = df[\"email\"].str.lower()",
   "id": "a18d963634807d65",
   "execution_count": 69,
   "outputs": []
  },
  {
   "metadata": {
    "ExecuteTime": {
     "end_time": "2024-11-10T12:32:10.509584Z",
     "start_time": "2024-11-10T12:32:10.501769Z"
    }
   },
   "cell_type": "code",
   "source": "df",
   "id": "40ed0f54723951ee",
   "execution_count": 70,
   "outputs": []
  },
  {
   "metadata": {
    "ExecuteTime": {
     "end_time": "2024-11-10T12:33:53.853471Z",
     "start_time": "2024-11-10T12:33:53.846929Z"
    }
   },
   "cell_type": "code",
   "source": "df[\"email\"].apply(len)",
   "id": "a4dc12c31fd03c90",
   "execution_count": 71,
   "outputs": []
  },
  {
   "metadata": {
    "ExecuteTime": {
     "end_time": "2024-11-10T12:34:25.718382Z",
     "start_time": "2024-11-10T12:34:25.714231Z"
    }
   },
   "cell_type": "code",
   "source": [
    "def uprate_email(email):\n",
    "    return email.upper()"
   ],
   "id": "2993b7b10f6c915e",
   "execution_count": 72,
   "outputs": []
  },
  {
   "metadata": {
    "ExecuteTime": {
     "end_time": "2024-11-10T12:35:13.627794Z",
     "start_time": "2024-11-10T12:35:13.622276Z"
    }
   },
   "cell_type": "code",
   "source": "df[\"email\"].apply(uprate_email)",
   "id": "d4f16d80bf9f4ed6",
   "execution_count": 74,
   "outputs": []
  },
  {
   "metadata": {
    "ExecuteTime": {
     "end_time": "2024-11-10T12:35:54.916459Z",
     "start_time": "2024-11-10T12:35:54.912121Z"
    }
   },
   "cell_type": "code",
   "source": "df[\"email\"] = df[\"email\"].apply(uprate_email)",
   "id": "a3518b547fbb805d",
   "execution_count": 75,
   "outputs": []
  },
  {
   "metadata": {
    "ExecuteTime": {
     "end_time": "2024-11-10T12:35:56.225781Z",
     "start_time": "2024-11-10T12:35:56.215481Z"
    }
   },
   "cell_type": "code",
   "source": "df",
   "id": "b261eaad30d206dd",
   "execution_count": 76,
   "outputs": []
  },
  {
   "metadata": {
    "ExecuteTime": {
     "end_time": "2024-11-10T12:36:58.256902Z",
     "start_time": "2024-11-10T12:36:58.253158Z"
    }
   },
   "cell_type": "code",
   "source": "df[\"email\"] = df[\"email\"].apply(lambda e: e.lower())",
   "id": "118e334df1e16d6d",
   "execution_count": 78,
   "outputs": []
  },
  {
   "metadata": {
    "ExecuteTime": {
     "end_time": "2024-11-10T12:37:05.103540Z",
     "start_time": "2024-11-10T12:37:05.095881Z"
    }
   },
   "cell_type": "code",
   "source": "df",
   "id": "aa90aa3c9602d145",
   "execution_count": 80,
   "outputs": []
  },
  {
   "metadata": {
    "ExecuteTime": {
     "end_time": "2024-11-10T12:38:13.444546Z",
     "start_time": "2024-11-10T12:38:13.438053Z"
    }
   },
   "cell_type": "code",
   "source": "df.apply(len)",
   "id": "f7e32ee1a79863ab",
   "execution_count": 81,
   "outputs": []
  },
  {
   "metadata": {
    "ExecuteTime": {
     "end_time": "2024-11-10T12:38:53.049346Z",
     "start_time": "2024-11-10T12:38:53.043630Z"
    }
   },
   "cell_type": "code",
   "source": "len(df[\"email\"])",
   "id": "dcb0bd7162f21f75",
   "execution_count": 82,
   "outputs": []
  },
  {
   "metadata": {
    "ExecuteTime": {
     "end_time": "2024-11-10T12:39:36.222968Z",
     "start_time": "2024-11-10T12:39:36.217030Z"
    }
   },
   "cell_type": "code",
   "source": "df.apply(len, axis=\"columns\")",
   "id": "39943ca6c546bc6b",
   "execution_count": 83,
   "outputs": []
  },
  {
   "metadata": {
    "ExecuteTime": {
     "end_time": "2024-11-10T12:41:03.494534Z",
     "start_time": "2024-11-10T12:41:03.488011Z"
    }
   },
   "cell_type": "code",
   "source": "df.apply(pd.Series.min)",
   "id": "c78ca69b65d36b33",
   "execution_count": 85,
   "outputs": []
  },
  {
   "metadata": {
    "ExecuteTime": {
     "end_time": "2024-11-10T12:42:34.824608Z",
     "start_time": "2024-11-10T12:42:34.816738Z"
    }
   },
   "cell_type": "code",
   "source": "df.apply(lambda x: x.min())",
   "id": "49e2971b71b8ac16",
   "execution_count": 86,
   "outputs": []
  },
  {
   "metadata": {
    "ExecuteTime": {
     "end_time": "2024-11-10T12:43:43.558736Z",
     "start_time": "2024-11-10T12:43:43.551553Z"
    }
   },
   "cell_type": "code",
   "source": "df",
   "id": "526cb907b1b17c22",
   "execution_count": 89,
   "outputs": []
  },
  {
   "metadata": {
    "ExecuteTime": {
     "end_time": "2024-11-10T12:43:57.761685Z",
     "start_time": "2024-11-10T12:43:57.753248Z"
    }
   },
   "cell_type": "code",
   "source": "df.map(len)",
   "id": "39cab0f6abb22694",
   "execution_count": 90,
   "outputs": []
  },
  {
   "metadata": {
    "ExecuteTime": {
     "end_time": "2024-11-10T12:44:56.184385Z",
     "start_time": "2024-11-10T12:44:56.174360Z"
    }
   },
   "cell_type": "code",
   "source": "df.map(str.lower)",
   "id": "ea9cfdc5b228e741",
   "execution_count": 91,
   "outputs": []
  },
  {
   "metadata": {
    "ExecuteTime": {
     "end_time": "2024-11-10T12:46:23.880795Z",
     "start_time": "2024-11-10T12:46:23.874017Z"
    }
   },
   "cell_type": "code",
   "source": [
    "# Return NaN to not assigned values\n",
    "df[\"first\"].map({\"Corey\": \"Chris\", \"Jane\": \"Mary\"})"
   ],
   "id": "a60176dfce203b19",
   "execution_count": 92,
   "outputs": []
  },
  {
   "metadata": {
    "ExecuteTime": {
     "end_time": "2024-11-10T12:47:39.428954Z",
     "start_time": "2024-11-10T12:47:39.422102Z"
    }
   },
   "cell_type": "code",
   "source": "df[\"first\"].replace({\"Corey\": \"Chris\", \"Jane\": \"Mary\"})",
   "id": "f8451d4446e80eb6",
   "execution_count": 93,
   "outputs": []
  },
  {
   "metadata": {
    "ExecuteTime": {
     "end_time": "2024-11-10T12:49:06.464980Z",
     "start_time": "2024-11-10T12:49:06.460721Z"
    }
   },
   "cell_type": "code",
   "source": "df[\"first\"] = df[\"first\"].replace({\"Corey\": \"Chris\", \"Jane\": \"Mary\"})",
   "id": "be9483c1d076bf82",
   "execution_count": 94,
   "outputs": []
  },
  {
   "metadata": {
    "ExecuteTime": {
     "end_time": "2024-11-10T12:49:29.491698Z",
     "start_time": "2024-11-10T12:49:29.484098Z"
    }
   },
   "cell_type": "code",
   "source": "df",
   "id": "29b06a25aba99128",
   "execution_count": 95,
   "outputs": []
  },
  {
   "metadata": {},
   "cell_type": "code",
   "execution_count": null,
   "source": "",
   "id": "f460c74d91f5bb02",
   "outputs": []
  }
 ],
 "metadata": {
  "kernelspec": {
   "display_name": "Python 3",
   "language": "python",
   "name": "python3"
  },
  "language_info": {
   "codemirror_mode": {
    "name": "ipython",
    "version": 2
   },
   "file_extension": ".py",
   "mimetype": "text/x-python",
   "name": "python",
   "nbconvert_exporter": "python",
   "pygments_lexer": "ipython2",
   "version": "2.7.6"
  }
 },
 "nbformat": 4,
 "nbformat_minor": 5
}
