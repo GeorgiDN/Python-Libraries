{
 "cells": [
  {
   "cell_type": "code",
   "id": "initial_id",
   "metadata": {
    "collapsed": true,
    "ExecuteTime": {
     "end_time": "2024-11-10T13:01:24.888468Z",
     "start_time": "2024-11-10T13:01:24.882998Z"
    }
   },
   "source": [
    "people = {\n",
    "    \"first\": [\"Corey\", 'Jane', 'John'], \n",
    "    \"last\": [\"Schafer\", 'Doe', 'Doe'], \n",
    "    \"email\": [\"CoreyMSchafer@gmail.com\", 'JaneDoe@email.com', 'JohnDoe@email.com']\n",
    "}"
   ],
   "execution_count": 1,
   "outputs": []
  },
  {
   "metadata": {
    "ExecuteTime": {
     "end_time": "2024-11-10T13:01:29.643258Z",
     "start_time": "2024-11-10T13:01:29.125738Z"
    }
   },
   "cell_type": "code",
   "source": "import pandas as pd",
   "id": "57e04a74d2ff4be",
   "execution_count": 2,
   "outputs": []
  },
  {
   "metadata": {
    "ExecuteTime": {
     "end_time": "2024-11-10T13:01:35.101226Z",
     "start_time": "2024-11-10T13:01:35.096353Z"
    }
   },
   "cell_type": "code",
   "source": "df= pd.DataFrame(people)",
   "id": "a0f8063744d50171",
   "execution_count": 3,
   "outputs": []
  },
  {
   "metadata": {
    "ExecuteTime": {
     "end_time": "2024-11-10T13:01:36.361798Z",
     "start_time": "2024-11-10T13:01:36.347843Z"
    }
   },
   "cell_type": "code",
   "source": "df",
   "id": "531fb4eb8d9461f1",
   "execution_count": 4,
   "outputs": []
  },
  {
   "metadata": {
    "ExecuteTime": {
     "end_time": "2024-11-10T13:02:52.558796Z",
     "start_time": "2024-11-10T13:02:52.552632Z"
    }
   },
   "cell_type": "code",
   "source": "df[\"first\"] + \" \" + df[\"last\"]",
   "id": "19b4e3e0c6370d62",
   "execution_count": 5,
   "outputs": []
  },
  {
   "metadata": {
    "ExecuteTime": {
     "end_time": "2024-11-10T13:03:15.108225Z",
     "start_time": "2024-11-10T13:03:15.103812Z"
    }
   },
   "cell_type": "code",
   "source": "df[\"full_name\"] = df[\"first\"] + \" \" + df[\"last\"]",
   "id": "3d23c131427f08a4",
   "execution_count": 6,
   "outputs": []
  },
  {
   "metadata": {
    "ExecuteTime": {
     "end_time": "2024-11-10T13:03:17.452627Z",
     "start_time": "2024-11-10T13:03:17.441832Z"
    }
   },
   "cell_type": "code",
   "source": "df",
   "id": "6bc6e38a739bde7f",
   "execution_count": 7,
   "outputs": []
  },
  {
   "metadata": {
    "ExecuteTime": {
     "end_time": "2024-11-10T13:04:24.006793Z",
     "start_time": "2024-11-10T13:04:23.997439Z"
    }
   },
   "cell_type": "code",
   "source": "df.drop(columns=[\"first\", \"last\"])",
   "id": "7a7f437ba8bfb033",
   "execution_count": 8,
   "outputs": []
  },
  {
   "metadata": {
    "ExecuteTime": {
     "end_time": "2024-11-10T13:04:38.569300Z",
     "start_time": "2024-11-10T13:04:38.563568Z"
    }
   },
   "cell_type": "code",
   "source": "df.drop(columns=[\"first\", \"last\"], inplace=True)",
   "id": "ba50504538a876af",
   "execution_count": 9,
   "outputs": []
  },
  {
   "metadata": {
    "ExecuteTime": {
     "end_time": "2024-11-10T13:04:41.038848Z",
     "start_time": "2024-11-10T13:04:41.031458Z"
    }
   },
   "cell_type": "code",
   "source": "df",
   "id": "42b4bfe0b9303f2b",
   "execution_count": 10,
   "outputs": []
  },
  {
   "metadata": {
    "ExecuteTime": {
     "end_time": "2024-11-10T13:05:39.513201Z",
     "start_time": "2024-11-10T13:05:39.506152Z"
    }
   },
   "cell_type": "code",
   "source": "df[\"full_name\"].str.split(\" \")",
   "id": "2c651d54601498ff",
   "execution_count": 11,
   "outputs": []
  },
  {
   "metadata": {
    "ExecuteTime": {
     "end_time": "2024-11-10T13:06:02.950521Z",
     "start_time": "2024-11-10T13:06:02.941493Z"
    }
   },
   "cell_type": "code",
   "source": "df[\"full_name\"].str.split(\" \", expand=True)",
   "id": "1fdba98b067a7420",
   "execution_count": 12,
   "outputs": []
  },
  {
   "metadata": {
    "ExecuteTime": {
     "end_time": "2024-11-10T13:07:07.159392Z",
     "start_time": "2024-11-10T13:07:07.153165Z"
    }
   },
   "cell_type": "code",
   "source": "df[[\"first\", \"last\"]] = df[\"full_name\"].str.split(\" \", expand=True)",
   "id": "d59fa9475f424ebc",
   "execution_count": 13,
   "outputs": []
  },
  {
   "metadata": {
    "ExecuteTime": {
     "end_time": "2024-11-10T13:07:09.246445Z",
     "start_time": "2024-11-10T13:07:09.238209Z"
    }
   },
   "cell_type": "code",
   "source": "df",
   "id": "ffe00b1e7aaa62fe",
   "execution_count": 14,
   "outputs": []
  },
  {
   "metadata": {
    "ExecuteTime": {
     "end_time": "2024-11-10T13:08:20.954771Z",
     "start_time": "2024-11-10T13:08:20.678504Z"
    }
   },
   "cell_type": "code",
   "source": "df._append({\"first\": \"Tony\"}) # AttributeError: 'DataFrame' object has no attribute 'append'",
   "id": "5e83e0e46a620b1f",
   "execution_count": 15,
   "outputs": []
  },
  {
   "metadata": {
    "ExecuteTime": {
     "end_time": "2024-11-10T13:11:40.087100Z",
     "start_time": "2024-11-10T13:11:40.076277Z"
    }
   },
   "cell_type": "code",
   "source": "df._append({\"first\": \"Tony\"}, ignore_index=True)",
   "id": "4a59fc84b6c3d1cb",
   "execution_count": 20,
   "outputs": []
  },
  {
   "metadata": {
    "ExecuteTime": {
     "end_time": "2024-11-10T13:14:54.682911Z",
     "start_time": "2024-11-10T13:14:54.678158Z"
    }
   },
   "cell_type": "code",
   "source": [
    "people = {\n",
    "    \"first\": [\"Tony\", \"Steve\"], \n",
    "    \"last\": [\"Stark\", \"Rogers\"], \n",
    "    \"email\": [\"IronMan@avenge.com\", 'Cap@avenge.com']\n",
    "}\n",
    "df2 = pd.DataFrame(people)"
   ],
   "id": "9fd32f1af0f4c691",
   "execution_count": 22,
   "outputs": []
  },
  {
   "metadata": {
    "ExecuteTime": {
     "end_time": "2024-11-10T13:14:57.089200Z",
     "start_time": "2024-11-10T13:14:57.079811Z"
    }
   },
   "cell_type": "code",
   "source": "df2",
   "id": "45f6d5b38edcf53f",
   "execution_count": 23,
   "outputs": []
  },
  {
   "metadata": {
    "ExecuteTime": {
     "end_time": "2024-11-10T13:15:30.100064Z",
     "start_time": "2024-11-10T13:15:30.089196Z"
    }
   },
   "cell_type": "code",
   "source": "df._append(df2, ignore_index=True)",
   "id": "e4aa5b29b29770c5",
   "execution_count": 24,
   "outputs": []
  },
  {
   "metadata": {
    "ExecuteTime": {
     "end_time": "2024-11-10T13:16:57.342036Z",
     "start_time": "2024-11-10T13:16:57.337621Z"
    }
   },
   "cell_type": "code",
   "source": "df = df._append(df2, ignore_index=True) # _append does not have inplace method",
   "id": "e59de2ccf419d067",
   "execution_count": 25,
   "outputs": []
  },
  {
   "metadata": {
    "ExecuteTime": {
     "end_time": "2024-11-10T13:17:00.107356Z",
     "start_time": "2024-11-10T13:17:00.097353Z"
    }
   },
   "cell_type": "code",
   "source": "df",
   "id": "2ef6fa4deea5e447",
   "execution_count": 26,
   "outputs": []
  },
  {
   "metadata": {
    "ExecuteTime": {
     "end_time": "2024-11-10T13:18:23.278693Z",
     "start_time": "2024-11-10T13:18:23.269210Z"
    }
   },
   "cell_type": "code",
   "source": "df.drop(index=4)",
   "id": "15382d43f44ad564",
   "execution_count": 27,
   "outputs": []
  },
  {
   "metadata": {
    "ExecuteTime": {
     "end_time": "2024-11-10T13:21:03.016384Z",
     "start_time": "2024-11-10T13:21:01.977379Z"
    }
   },
   "cell_type": "code",
   "source": [
    "filt = df[\"last\"] == \"Doe\"\n",
    "df.drop(index=filt, inplace=True)\n",
    "# df.drop(index=df[df[\"last\"] == \"Doe\"].index)"
   ],
   "id": "5239e76b33d2e329",
   "execution_count": 29,
   "outputs": []
  },
  {
   "metadata": {},
   "cell_type": "code",
   "execution_count": null,
   "source": "",
   "id": "ae76b82d62dd3202",
   "outputs": []
  }
 ],
 "metadata": {
  "kernelspec": {
   "display_name": "Python 3",
   "language": "python",
   "name": "python3"
  },
  "language_info": {
   "codemirror_mode": {
    "name": "ipython",
    "version": 2
   },
   "file_extension": ".py",
   "mimetype": "text/x-python",
   "name": "python",
   "nbconvert_exporter": "python",
   "pygments_lexer": "ipython2",
   "version": "2.7.6"
  }
 },
 "nbformat": 4,
 "nbformat_minor": 5
}
