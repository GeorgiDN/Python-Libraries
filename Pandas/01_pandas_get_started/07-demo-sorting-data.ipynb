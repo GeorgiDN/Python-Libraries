{
 "cells": [
  {
   "cell_type": "code",
   "id": "initial_id",
   "metadata": {
    "collapsed": true,
    "ExecuteTime": {
     "end_time": "2024-11-10T13:34:54.138009Z",
     "start_time": "2024-11-10T13:34:54.133776Z"
    }
   },
   "source": [
    "people = {\n",
    "    \"first\": [\"Corey\", \"Jane\", \"John\", \"Adam\"], \n",
    "    \"last\": [\"Schafer\", \"Doe\", \"Doe\", \"Doe\"], \n",
    "    \"email\": [\"CoreyMSchafer@gmail.com\", \"JaneDoe@email.com\", \"JohnDoe@email.com\", \"A@email.com\"]\n",
    "}"
   ],
   "execution_count": 7,
   "outputs": []
  },
  {
   "metadata": {
    "ExecuteTime": {
     "end_time": "2024-11-10T13:34:54.144768Z",
     "start_time": "2024-11-10T13:34:54.139020Z"
    }
   },
   "cell_type": "code",
   "source": "import pandas as pd",
   "id": "f23d1eaf70691951",
   "execution_count": 8,
   "outputs": []
  },
  {
   "metadata": {
    "ExecuteTime": {
     "end_time": "2024-11-10T13:34:54.152046Z",
     "start_time": "2024-11-10T13:34:54.145778Z"
    }
   },
   "cell_type": "code",
   "source": "df= pd.DataFrame(people)",
   "id": "781b0bad7dc5a9be",
   "execution_count": 9,
   "outputs": []
  },
  {
   "metadata": {
    "ExecuteTime": {
     "end_time": "2024-11-10T13:34:54.162750Z",
     "start_time": "2024-11-10T13:34:54.154055Z"
    }
   },
   "cell_type": "code",
   "source": "df",
   "id": "6c42bc05f81682ec",
   "execution_count": 10,
   "outputs": []
  },
  {
   "metadata": {
    "ExecuteTime": {
     "end_time": "2024-11-10T13:34:54.173659Z",
     "start_time": "2024-11-10T13:34:54.163756Z"
    }
   },
   "cell_type": "code",
   "source": "df.sort_values(by=\"last\")",
   "id": "c222108ada439e89",
   "execution_count": 11,
   "outputs": []
  },
  {
   "metadata": {
    "ExecuteTime": {
     "end_time": "2024-11-10T13:34:54.183743Z",
     "start_time": "2024-11-10T13:34:54.174611Z"
    }
   },
   "cell_type": "code",
   "source": "df.sort_values(by=\"last\", ascending=False)",
   "id": "ca9d5bd14477bd70",
   "execution_count": 12,
   "outputs": []
  },
  {
   "metadata": {
    "ExecuteTime": {
     "end_time": "2024-11-10T13:36:55.667817Z",
     "start_time": "2024-11-10T13:36:55.658878Z"
    }
   },
   "cell_type": "code",
   "source": "df.sort_values(by=[\"last\", \"first\"], ascending=False)",
   "id": "68051291fc43d64c",
   "execution_count": 14,
   "outputs": []
  },
  {
   "metadata": {
    "ExecuteTime": {
     "end_time": "2024-11-10T13:37:50.914312Z",
     "start_time": "2024-11-10T13:37:50.905492Z"
    }
   },
   "cell_type": "code",
   "source": [
    "# sort ascending and descending\n",
    "df.sort_values(by=[\"last\", \"first\"], ascending=[False, True])"
   ],
   "id": "1333e5f4df299ee4",
   "execution_count": 15,
   "outputs": []
  },
  {
   "metadata": {
    "ExecuteTime": {
     "end_time": "2024-11-10T13:42:35.893105Z",
     "start_time": "2024-11-10T13:42:35.887319Z"
    }
   },
   "cell_type": "code",
   "source": "df.sort_values(by=[\"last\", \"first\"], ascending=[False, True], inplace=True)",
   "id": "3e9b4bac7731af13",
   "execution_count": 16,
   "outputs": []
  },
  {
   "metadata": {
    "ExecuteTime": {
     "end_time": "2024-11-10T13:42:37.119719Z",
     "start_time": "2024-11-10T13:42:37.112740Z"
    }
   },
   "cell_type": "code",
   "source": "df",
   "id": "5348583e2e427dbc",
   "execution_count": 17,
   "outputs": []
  },
  {
   "metadata": {
    "ExecuteTime": {
     "end_time": "2024-11-10T13:43:26.000616Z",
     "start_time": "2024-11-10T13:43:25.992522Z"
    }
   },
   "cell_type": "code",
   "source": "df.sort_index()",
   "id": "1b734c3a98f8f609",
   "execution_count": 18,
   "outputs": []
  },
  {
   "metadata": {
    "ExecuteTime": {
     "end_time": "2024-11-10T13:44:56.168458Z",
     "start_time": "2024-11-10T13:44:56.162077Z"
    }
   },
   "cell_type": "code",
   "source": "df[\"last\"].sort_values()",
   "id": "46c97143096963fe",
   "execution_count": 19,
   "outputs": []
  },
  {
   "metadata": {},
   "cell_type": "code",
   "execution_count": null,
   "source": "",
   "id": "eaf11c291e69e8bc",
   "outputs": []
  }
 ],
 "metadata": {
  "kernelspec": {
   "display_name": "Python 3",
   "language": "python",
   "name": "python3"
  },
  "language_info": {
   "codemirror_mode": {
    "name": "ipython",
    "version": 2
   },
   "file_extension": ".py",
   "mimetype": "text/x-python",
   "name": "python",
   "nbconvert_exporter": "python",
   "pygments_lexer": "ipython2",
   "version": "2.7.6"
  }
 },
 "nbformat": 4,
 "nbformat_minor": 5
}
