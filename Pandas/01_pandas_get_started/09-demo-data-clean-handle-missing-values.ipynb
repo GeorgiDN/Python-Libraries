{
 "cells": [
  {
   "cell_type": "code",
   "id": "initial_id",
   "metadata": {
    "collapsed": true,
    "ExecuteTime": {
     "end_time": "2024-11-10T16:21:37.020489Z",
     "start_time": "2024-11-10T16:21:36.556682Z"
    }
   },
   "source": [
    "import pandas as pd\n",
    "import numpy as np"
   ],
   "execution_count": 1,
   "outputs": []
  },
  {
   "metadata": {
    "ExecuteTime": {
     "end_time": "2024-11-10T16:22:28.543287Z",
     "start_time": "2024-11-10T16:22:28.538677Z"
    }
   },
   "cell_type": "code",
   "source": [
    "people = {\n",
    "    \"first\": [\"Corey\", \"Jane\", \"John\", \"Chris\", np.nan, None, \"NA\"], \n",
    "    \"last\": [\"Schafer\", \"Doe\", \"Doe\", \"Schafer\", np.nan, np.nan, \"Missing\"], \n",
    "    \"email\": [\"CoreyMSchafer@gmail.com\", \"JaneDoe@email.com\", \"JohnDoe@email.com\", None, np.nan, \"Anonymous@email.com\", \"NA\"],\n",
    "    \"age\": [\"33\", \"55\", \"63\", \"36\", None, None, \"Missing\"]\n",
    "}"
   ],
   "id": "cca3d6a7ca5bdb27",
   "execution_count": 3,
   "outputs": []
  },
  {
   "metadata": {
    "ExecuteTime": {
     "end_time": "2024-11-10T16:22:29.352652Z",
     "start_time": "2024-11-10T16:22:29.347713Z"
    }
   },
   "cell_type": "code",
   "source": [
    "df = pd.DataFrame(people)\n",
    "\n",
    "# df.replace(\"NA\", np.nan, inplace=True)\n",
    "# df.replace(\"Missing\", np.nan, inplace=True)"
   ],
   "id": "cdcbcbf089f22d0a",
   "execution_count": 4,
   "outputs": []
  },
  {
   "metadata": {
    "ExecuteTime": {
     "end_time": "2024-11-10T16:24:46.004832Z",
     "start_time": "2024-11-10T16:24:45.992136Z"
    }
   },
   "cell_type": "code",
   "source": "df",
   "id": "8e0ed3b223a0eddf",
   "execution_count": 5,
   "outputs": []
  },
  {
   "metadata": {
    "ExecuteTime": {
     "end_time": "2024-11-10T16:24:51.864566Z",
     "start_time": "2024-11-10T16:24:51.856167Z"
    }
   },
   "cell_type": "code",
   "source": "df.dropna()",
   "id": "177a3942145676d8",
   "execution_count": 6,
   "outputs": []
  },
  {
   "metadata": {
    "ExecuteTime": {
     "end_time": "2024-11-10T16:29:13.233278Z",
     "start_time": "2024-11-10T16:29:13.223386Z"
    }
   },
   "cell_type": "code",
   "source": "df.dropna(axis=\"index\", how=\"all\")",
   "id": "adf8e3b1cd3754ea",
   "execution_count": 10,
   "outputs": []
  },
  {
   "metadata": {
    "ExecuteTime": {
     "end_time": "2024-11-10T16:29:28.832947Z",
     "start_time": "2024-11-10T16:29:28.751392Z"
    }
   },
   "cell_type": "code",
   "source": "df.dropna(axis=\"columns\", how=\"all\")",
   "id": "77ec39ced640a710",
   "execution_count": 12,
   "outputs": []
  },
  {
   "metadata": {
    "ExecuteTime": {
     "end_time": "2024-11-10T16:29:38.418768Z",
     "start_time": "2024-11-10T16:29:38.410982Z"
    }
   },
   "cell_type": "code",
   "source": "df.dropna(axis=\"columns\", how=\"any\")",
   "id": "3d403650b7ca0b56",
   "execution_count": 13,
   "outputs": []
  },
  {
   "metadata": {
    "ExecuteTime": {
     "end_time": "2024-11-10T16:30:10.328260Z",
     "start_time": "2024-11-10T16:30:10.315931Z"
    }
   },
   "cell_type": "code",
   "source": "df.dropna(axis=\"index\", how=\"any\", subset=[\"email\"])",
   "id": "5bfda20e22b1d281",
   "execution_count": 14,
   "outputs": []
  },
  {
   "metadata": {},
   "cell_type": "code",
   "execution_count": null,
   "source": [
    "# axis=\"index\": Specifies that rows (index) will be dropped\n",
    "# how=\"all\": Specifies that only rows where all values are NaN in the specified subset will be dropped.\n",
    "# subset=[\"last\", \"email\"]: Limits the check to only the last and email columns. Rows where both last and email are NaN will be removed, but rows where one of them has a non-NaN value will remain."
   ],
   "id": "4637e9c45475701c",
   "outputs": []
  },
  {
   "metadata": {
    "ExecuteTime": {
     "end_time": "2024-11-10T16:32:06.171420Z",
     "start_time": "2024-11-10T16:32:06.159496Z"
    }
   },
   "cell_type": "code",
   "source": "df.dropna(axis=\"index\", how=\"all\", subset=[\"last\", \"email\"])",
   "id": "29b863d17e33a36",
   "execution_count": 15,
   "outputs": []
  },
  {
   "metadata": {},
   "cell_type": "code",
   "execution_count": null,
   "source": "",
   "id": "1f27fb15612a5ad6",
   "outputs": []
  }
 ],
 "metadata": {
  "kernelspec": {
   "display_name": "Python 3",
   "language": "python",
   "name": "python3"
  },
  "language_info": {
   "codemirror_mode": {
    "name": "ipython",
    "version": 2
   },
   "file_extension": ".py",
   "mimetype": "text/x-python",
   "name": "python",
   "nbconvert_exporter": "python",
   "pygments_lexer": "ipython2",
   "version": "2.7.6"
  }
 },
 "nbformat": 4,
 "nbformat_minor": 5
}
